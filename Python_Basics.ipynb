{
  "nbformat": 4,
  "nbformat_minor": 0,
  "metadata": {
    "colab": {
      "name": "Python_Basics.ipynb",
      "provenance": [],
      "collapsed_sections": [],
      "authorship_tag": "ABX9TyNF5tsAmlhDmAOfSfMhkoOk",
      "include_colab_link": true
    },
    "kernelspec": {
      "name": "python3",
      "display_name": "Python 3"
    },
    "language_info": {
      "name": "python"
    }
  },
  "cells": [
    {
      "cell_type": "markdown",
      "metadata": {
        "id": "view-in-github",
        "colab_type": "text"
      },
      "source": [
        "<a href=\"https://colab.research.google.com/github/Shubham-Das-Coder/Python_Basics_For_Machine_Learning/blob/main/Python_Basics.ipynb\" target=\"_parent\"><img src=\"https://colab.research.google.com/assets/colab-badge.svg\" alt=\"Open In Colab\"/></a>"
      ]
    },
    {
      "cell_type": "markdown",
      "metadata": {
        "id": "9QMl2pknvRtF"
      },
      "source": [
        "#*Print Function*"
      ]
    },
    {
      "cell_type": "code",
      "metadata": {
        "colab": {
          "base_uri": "https://localhost:8080/"
        },
        "id": "o5tVtEyalxaa",
        "outputId": "06eb0d1e-79aa-4144-b97d-f7f3c9a73f56"
      },
      "source": [
        "print(\"Hello World\")"
      ],
      "execution_count": 1,
      "outputs": [
        {
          "output_type": "stream",
          "name": "stdout",
          "text": [
            "Hello World\n"
          ]
        }
      ]
    },
    {
      "cell_type": "code",
      "metadata": {
        "colab": {
          "base_uri": "https://localhost:8080/"
        },
        "id": "YBPXieW-veI8",
        "outputId": "00a0123e-d735-4c08-fdf3-8ec39e58deeb"
      },
      "source": [
        "print(\"Hello\"+\" World\")"
      ],
      "execution_count": 2,
      "outputs": [
        {
          "output_type": "stream",
          "name": "stdout",
          "text": [
            "Hello World\n"
          ]
        }
      ]
    },
    {
      "cell_type": "code",
      "metadata": {
        "colab": {
          "base_uri": "https://localhost:8080/"
        },
        "id": "zlRni4f6vpos",
        "outputId": "9c03d362-b17e-49b8-ff3e-1088675dbda1"
      },
      "source": [
        "print(123456789)"
      ],
      "execution_count": 3,
      "outputs": [
        {
          "output_type": "stream",
          "name": "stdout",
          "text": [
            "123456789\n"
          ]
        }
      ]
    },
    {
      "cell_type": "code",
      "metadata": {
        "colab": {
          "base_uri": "https://localhost:8080/"
        },
        "id": "Gu7s4CIdvxMT",
        "outputId": "2d3b4dda-ab69-43ff-e987-60eb0624366d"
      },
      "source": [
        "print(4+6)"
      ],
      "execution_count": 4,
      "outputs": [
        {
          "output_type": "stream",
          "name": "stdout",
          "text": [
            "10\n"
          ]
        }
      ]
    },
    {
      "cell_type": "markdown",
      "metadata": {
        "id": "JWTBT0viwGQW"
      },
      "source": [
        "#*Basic Data Types*"
      ]
    },
    {
      "cell_type": "code",
      "metadata": {
        "colab": {
          "base_uri": "https://localhost:8080/"
        },
        "id": "tRj84VyYwQCT",
        "outputId": "9809ec52-32bc-45b5-c16c-8ec84ece0547"
      },
      "source": [
        "type(1)"
      ],
      "execution_count": 5,
      "outputs": [
        {
          "output_type": "execute_result",
          "data": {
            "text/plain": [
              "int"
            ]
          },
          "metadata": {},
          "execution_count": 5
        }
      ]
    },
    {
      "cell_type": "code",
      "metadata": {
        "colab": {
          "base_uri": "https://localhost:8080/"
        },
        "id": "VdbzEKUTwVIe",
        "outputId": "8ba29326-bbcc-4fd2-ab11-a5fb1941f78c"
      },
      "source": [
        "type(1.0)"
      ],
      "execution_count": 6,
      "outputs": [
        {
          "output_type": "execute_result",
          "data": {
            "text/plain": [
              "float"
            ]
          },
          "metadata": {},
          "execution_count": 6
        }
      ]
    },
    {
      "cell_type": "code",
      "metadata": {
        "colab": {
          "base_uri": "https://localhost:8080/"
        },
        "id": "4h9r2lPqwYh5",
        "outputId": "2685d72f-ac32-4229-8c7e-13e298277ce9"
      },
      "source": [
        "type(\"Hello World\")"
      ],
      "execution_count": 7,
      "outputs": [
        {
          "output_type": "execute_result",
          "data": {
            "text/plain": [
              "str"
            ]
          },
          "metadata": {},
          "execution_count": 7
        }
      ]
    },
    {
      "cell_type": "markdown",
      "metadata": {
        "id": "BaWn7IVowkXa"
      },
      "source": [
        "#*Constants And Variables*"
      ]
    },
    {
      "cell_type": "code",
      "metadata": {
        "colab": {
          "base_uri": "https://localhost:8080/"
        },
        "id": "TtuWGnGGwb3g",
        "outputId": "cd7755d3-8a8e-4e98-f4ec-c8bd34985d0e"
      },
      "source": [
        "god_of_cricket=\"Sachin\"\n",
        "print(god_of_cricket)"
      ],
      "execution_count": 8,
      "outputs": [
        {
          "output_type": "stream",
          "name": "stdout",
          "text": [
            "Sachin\n"
          ]
        }
      ]
    },
    {
      "cell_type": "code",
      "metadata": {
        "colab": {
          "base_uri": "https://localhost:8080/"
        },
        "id": "UEgM18vVw3OD",
        "outputId": "fed8db60-ab01-482f-ba60-05bb276f4c4c"
      },
      "source": [
        "god_of_cricket=\"Dhoni\"\n",
        "print(god_of_cricket)"
      ],
      "execution_count": 9,
      "outputs": [
        {
          "output_type": "stream",
          "name": "stdout",
          "text": [
            "Dhoni\n"
          ]
        }
      ]
    },
    {
      "cell_type": "code",
      "metadata": {
        "colab": {
          "base_uri": "https://localhost:8080/"
        },
        "id": "w_qoZ21ew7L0",
        "outputId": "e6d0630b-09e8-47bd-ae4c-1401c2461ec1"
      },
      "source": [
        "car1,car2,car3=\"Ferrari\",\"Porsche\",\"Bentley\"\n",
        "print(car1)\n",
        "print(car2)\n",
        "print(car3)"
      ],
      "execution_count": 10,
      "outputs": [
        {
          "output_type": "stream",
          "name": "stdout",
          "text": [
            "Ferrari\n",
            "Porsche\n",
            "Bentley\n"
          ]
        }
      ]
    },
    {
      "cell_type": "code",
      "metadata": {
        "colab": {
          "base_uri": "https://localhost:8080/"
        },
        "id": "UXtcxEcVxVxD",
        "outputId": "f915b01c-a36d-4b99-c7ee-fd981540d5f3"
      },
      "source": [
        "x=y=z=3\n",
        "print(x)\n",
        "print(y)\n",
        "print(z)"
      ],
      "execution_count": 11,
      "outputs": [
        {
          "output_type": "stream",
          "name": "stdout",
          "text": [
            "3\n",
            "3\n",
            "3\n"
          ]
        }
      ]
    },
    {
      "cell_type": "markdown",
      "metadata": {
        "id": "nEsL-K7DxsIf"
      },
      "source": [
        "#*Input Function*"
      ]
    },
    {
      "cell_type": "code",
      "metadata": {
        "id": "puAlcCY1xgcU",
        "colab": {
          "base_uri": "https://localhost:8080/"
        },
        "outputId": "0b24aec4-27bf-4ac2-ac79-a9015a65ff08"
      },
      "source": [
        "num1=input(\"Please Enter The First Number :\")\n",
        "num2=input(\"Please Enter The Second Number :\")"
      ],
      "execution_count": 12,
      "outputs": [
        {
          "name": "stdout",
          "output_type": "stream",
          "text": [
            "Please Enter The First Number :45\n",
            "Please Enter The Second Number :87\n"
          ]
        }
      ]
    },
    {
      "cell_type": "code",
      "metadata": {
        "colab": {
          "base_uri": "https://localhost:8080/"
        },
        "id": "cl2MIrJ5R2zV",
        "outputId": "3c3abfb9-71d8-4a79-9743-3a932595bf32"
      },
      "source": [
        "sum=num1+num2\n",
        "print(sum)"
      ],
      "execution_count": 13,
      "outputs": [
        {
          "output_type": "stream",
          "name": "stdout",
          "text": [
            "4587\n"
          ]
        }
      ]
    },
    {
      "cell_type": "code",
      "metadata": {
        "colab": {
          "base_uri": "https://localhost:8080/"
        },
        "id": "A8LRn-RfR_eV",
        "outputId": "215a982d-7f28-46c7-e6c1-59a5c6c1ab94"
      },
      "source": [
        "num1=int(input(\"Please Enter The First Number :\"))\n",
        "num2=int(input(\"Please Enter The Second Number :\"))\n",
        "sum=num1+num2\n",
        "print(sum)"
      ],
      "execution_count": 14,
      "outputs": [
        {
          "output_type": "stream",
          "name": "stdout",
          "text": [
            "Please Enter The First Number :36\n",
            "Please Enter The Second Number :24\n",
            "60\n"
          ]
        }
      ]
    },
    {
      "cell_type": "code",
      "metadata": {
        "colab": {
          "base_uri": "https://localhost:8080/"
        },
        "id": "3WTF5g7xSSTh",
        "outputId": "b723fb21-8bc9-4631-a35d-06b47eaae6aa"
      },
      "source": [
        "num=7\n",
        "float_num=float(num)\n",
        "print(float_num)"
      ],
      "execution_count": 15,
      "outputs": [
        {
          "output_type": "stream",
          "name": "stdout",
          "text": [
            "7.0\n"
          ]
        }
      ]
    },
    {
      "cell_type": "code",
      "metadata": {
        "colab": {
          "base_uri": "https://localhost:8080/"
        },
        "id": "iXG3c1FuSo_d",
        "outputId": "0a0e3d0f-897c-4986-eb71-ee2b8984e686"
      },
      "source": [
        "num=89\n",
        "print(float(num))"
      ],
      "execution_count": 16,
      "outputs": [
        {
          "output_type": "stream",
          "name": "stdout",
          "text": [
            "89.0\n"
          ]
        }
      ]
    },
    {
      "cell_type": "code",
      "metadata": {
        "id": "ps3RT2EQSv3G"
      },
      "source": [
        ""
      ],
      "execution_count": 16,
      "outputs": []
    }
  ]
}