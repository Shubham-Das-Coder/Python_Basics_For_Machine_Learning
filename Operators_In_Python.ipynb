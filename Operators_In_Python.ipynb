{
  "nbformat": 4,
  "nbformat_minor": 0,
  "metadata": {
    "colab": {
      "name": "Operators_In_Python.ipynb",
      "provenance": [],
      "collapsed_sections": [],
      "authorship_tag": "ABX9TyPgD4PpyuMxz71E5VOtiD5Y",
      "include_colab_link": true
    },
    "kernelspec": {
      "name": "python3",
      "display_name": "Python 3"
    },
    "language_info": {
      "name": "python"
    }
  },
  "cells": [
    {
      "cell_type": "markdown",
      "metadata": {
        "id": "view-in-github",
        "colab_type": "text"
      },
      "source": [
        "<a href=\"https://colab.research.google.com/github/Shubham-Das-Coder/Python_Basics_For_Machine_Learning/blob/main/Operators_In_Python.ipynb\" target=\"_parent\"><img src=\"https://colab.research.google.com/assets/colab-badge.svg\" alt=\"Open In Colab\"/></a>"
      ]
    },
    {
      "cell_type": "markdown",
      "metadata": {
        "id": "sYc6jITp-KgZ"
      },
      "source": [
        "*Arithmetic Operators*"
      ]
    },
    {
      "cell_type": "code",
      "metadata": {
        "colab": {
          "base_uri": "https://localhost:8080/"
        },
        "id": "hXniRBHn-Ah3",
        "outputId": "1dac5fa9-1f1c-4f32-83c0-e0fe6d7a733b"
      },
      "source": [
        "num_1=20\n",
        "num_2=10\n",
        "\n",
        "#Addition\n",
        "sum=num_1+num_2\n",
        "print(\"Sum = \",sum)\n",
        "\n",
        "#Subtraction\n",
        "diff=num_1-num_2\n",
        "print(\"Difference = \",diff)\n",
        "\n",
        "#Multiplication\n",
        "prod=num_1*num_2\n",
        "print(\"Product = \",prod)\n",
        "\n",
        "#Division\n",
        "quo=num_1/num_2\n",
        "print(\"Quotient = \",quo)\n",
        "\n",
        "#Exponent\n",
        "exp=num_1**num_2\n",
        "print(\"Exponent = \",exp)\n",
        "\n",
        "#Modulus\n",
        "mod=num_1%num_2\n",
        "print(\"Remainder = \",mod)"
      ],
      "execution_count": 1,
      "outputs": [
        {
          "output_type": "stream",
          "name": "stdout",
          "text": [
            "Sum =  30\n",
            "Difference =  10\n",
            "Product =  200\n",
            "Quotient =  2.0\n",
            "Exponent =  10240000000000\n",
            "Remainder =  0\n"
          ]
        }
      ]
    },
    {
      "cell_type": "markdown",
      "metadata": {
        "id": "d5YnSmI3klC-"
      },
      "source": [
        "*Assignment Operators*"
      ]
    },
    {
      "cell_type": "code",
      "metadata": {
        "colab": {
          "base_uri": "https://localhost:8080/"
        },
        "id": "0nkM2Z89_axy",
        "outputId": "c7f148f5-a2cc-46b7-df1f-b4f03b2c36ab"
      },
      "source": [
        "a=6\n",
        "print(a)"
      ],
      "execution_count": 2,
      "outputs": [
        {
          "output_type": "stream",
          "name": "stdout",
          "text": [
            "6\n"
          ]
        }
      ]
    },
    {
      "cell_type": "code",
      "metadata": {
        "colab": {
          "base_uri": "https://localhost:8080/"
        },
        "id": "DHpNFhdjk1aW",
        "outputId": "daef0b82-2831-4ecd-8e26-f45f76d167dd"
      },
      "source": [
        "b=7\n",
        "b+=2\n",
        "print(b)"
      ],
      "execution_count": 3,
      "outputs": [
        {
          "output_type": "stream",
          "name": "stdout",
          "text": [
            "9\n"
          ]
        }
      ]
    },
    {
      "cell_type": "code",
      "metadata": {
        "colab": {
          "base_uri": "https://localhost:8080/"
        },
        "id": "hKtnwovKlsCK",
        "outputId": "d1a5e028-4a55-4ade-af8e-f7b1d6a43840"
      },
      "source": [
        "c=8\n",
        "c-=4\n",
        "print(c)"
      ],
      "execution_count": 4,
      "outputs": [
        {
          "output_type": "stream",
          "name": "stdout",
          "text": [
            "4\n"
          ]
        }
      ]
    },
    {
      "cell_type": "code",
      "metadata": {
        "colab": {
          "base_uri": "https://localhost:8080/"
        },
        "id": "cbhO0031lxpC",
        "outputId": "bdef2413-3efb-437e-a341-6059f2d1ff1f"
      },
      "source": [
        "d=7\n",
        "d*=3\n",
        "print(d)"
      ],
      "execution_count": 5,
      "outputs": [
        {
          "output_type": "stream",
          "name": "stdout",
          "text": [
            "21\n"
          ]
        }
      ]
    },
    {
      "cell_type": "code",
      "metadata": {
        "colab": {
          "base_uri": "https://localhost:8080/"
        },
        "id": "8McbXoYsl727",
        "outputId": "78adbd52-0d19-4e40-8d02-2f2322815e87"
      },
      "source": [
        "e=5\n",
        "e/=5\n",
        "print(e)"
      ],
      "execution_count": 6,
      "outputs": [
        {
          "output_type": "stream",
          "name": "stdout",
          "text": [
            "1.0\n"
          ]
        }
      ]
    },
    {
      "cell_type": "code",
      "metadata": {
        "colab": {
          "base_uri": "https://localhost:8080/"
        },
        "id": "0xkeaUFnmACK",
        "outputId": "2331d5ee-830b-4c9a-e59b-ce8a18063c54"
      },
      "source": [
        "f=2\n",
        "f**=5\n",
        "print(f)"
      ],
      "execution_count": 7,
      "outputs": [
        {
          "output_type": "stream",
          "name": "stdout",
          "text": [
            "32\n"
          ]
        }
      ]
    },
    {
      "cell_type": "code",
      "metadata": {
        "colab": {
          "base_uri": "https://localhost:8080/"
        },
        "id": "hZESonICmHkh",
        "outputId": "5ace4b30-14f1-4e13-f3cb-a24f388a1d57"
      },
      "source": [
        "g=4\n",
        "g%=2\n",
        "print(g)"
      ],
      "execution_count": 8,
      "outputs": [
        {
          "output_type": "stream",
          "name": "stdout",
          "text": [
            "0\n"
          ]
        }
      ]
    },
    {
      "cell_type": "markdown",
      "metadata": {
        "id": "NdR3W0TMmR5D"
      },
      "source": [
        "*Comparison Operators*"
      ]
    },
    {
      "cell_type": "code",
      "metadata": {
        "colab": {
          "base_uri": "https://localhost:8080/"
        },
        "id": "wAXhBTYimNMq",
        "outputId": "e6c2fc3d-b010-441b-904f-1d2f8d7a5e18"
      },
      "source": [
        "a=5\n",
        "b=10\n",
        "print(a==b)\n",
        "print(a!=b)\n",
        "print(a>b)\n",
        "print(a<b)\n",
        "print(a>=b)\n",
        "print(a<=b)"
      ],
      "execution_count": 9,
      "outputs": [
        {
          "output_type": "stream",
          "name": "stdout",
          "text": [
            "False\n",
            "True\n",
            "False\n",
            "True\n",
            "False\n",
            "True\n"
          ]
        }
      ]
    },
    {
      "cell_type": "markdown",
      "metadata": {
        "id": "i6dgnR8Jm0VU"
      },
      "source": [
        "*Logical Operators*"
      ]
    },
    {
      "cell_type": "code",
      "metadata": {
        "colab": {
          "base_uri": "https://localhost:8080/"
        },
        "id": "arMr081tmwtT",
        "outputId": "11830ab1-afc3-417a-da64-e92f582f5f79"
      },
      "source": [
        "print(20>10 and 43<64)\n",
        "print(45>34 and 37>98)\n",
        "print(31<23 and 56>18)\n",
        "print(74<42 and 65>99)"
      ],
      "execution_count": 10,
      "outputs": [
        {
          "output_type": "stream",
          "name": "stdout",
          "text": [
            "True\n",
            "False\n",
            "False\n",
            "False\n"
          ]
        }
      ]
    },
    {
      "cell_type": "code",
      "metadata": {
        "colab": {
          "base_uri": "https://localhost:8080/"
        },
        "id": "WYsYUjxancM6",
        "outputId": "60a89776-ca5c-4413-df4b-ac575508aee5"
      },
      "source": [
        "print(20>10 or 43<64)\n",
        "print(45>34 or 37>98)\n",
        "print(31<23 or 56>18)\n",
        "print(74<42 or 65>99)"
      ],
      "execution_count": 11,
      "outputs": [
        {
          "output_type": "stream",
          "name": "stdout",
          "text": [
            "True\n",
            "True\n",
            "True\n",
            "False\n"
          ]
        }
      ]
    },
    {
      "cell_type": "code",
      "metadata": {
        "colab": {
          "base_uri": "https://localhost:8080/"
        },
        "id": "0gYbzRrrnlea",
        "outputId": "87b8c258-18fe-41ea-88bd-8fd17f708f1d"
      },
      "source": [
        "print(not(20>10 and 43<64))\n",
        "print(not(45>34 and 37>98))\n",
        "print(not(31<23 and 56>18))\n",
        "print(not(74<42 and 65>99))"
      ],
      "execution_count": 12,
      "outputs": [
        {
          "output_type": "stream",
          "name": "stdout",
          "text": [
            "False\n",
            "True\n",
            "True\n",
            "True\n"
          ]
        }
      ]
    },
    {
      "cell_type": "markdown",
      "metadata": {
        "id": "jr6-DhO8nurL"
      },
      "source": [
        "*Identity Operators*"
      ]
    },
    {
      "cell_type": "code",
      "metadata": {
        "colab": {
          "base_uri": "https://localhost:8080/"
        },
        "id": "2GmKzq6Gnsh6",
        "outputId": "d2827610-71a9-4b24-8e4c-8b9fc6000883"
      },
      "source": [
        "a=12\n",
        "b=12\n",
        "print(a is b)"
      ],
      "execution_count": 13,
      "outputs": [
        {
          "output_type": "stream",
          "name": "stdout",
          "text": [
            "True\n"
          ]
        }
      ]
    },
    {
      "cell_type": "code",
      "metadata": {
        "colab": {
          "base_uri": "https://localhost:8080/"
        },
        "id": "9i_057Yan8hZ",
        "outputId": "bbf56d01-6f6d-4e8b-dead-4f800da5de1a"
      },
      "source": [
        "c=23\n",
        "d=59\n",
        "print(c is d)"
      ],
      "execution_count": 14,
      "outputs": [
        {
          "output_type": "stream",
          "name": "stdout",
          "text": [
            "False\n"
          ]
        }
      ]
    },
    {
      "cell_type": "code",
      "metadata": {
        "colab": {
          "base_uri": "https://localhost:8080/"
        },
        "id": "M14DwIQVoEHC",
        "outputId": "84454e2e-41ac-4127-c3fd-bc0caa35d2b2"
      },
      "source": [
        "e=39\n",
        "f=39\n",
        "print(e is not f)"
      ],
      "execution_count": 15,
      "outputs": [
        {
          "output_type": "stream",
          "name": "stdout",
          "text": [
            "False\n"
          ]
        }
      ]
    },
    {
      "cell_type": "code",
      "metadata": {
        "colab": {
          "base_uri": "https://localhost:8080/"
        },
        "id": "kogqQ-i_oK1a",
        "outputId": "dd34442f-8e98-4119-fd87-90014ee3db68"
      },
      "source": [
        "g=76\n",
        "h=61\n",
        "print(g is not h)"
      ],
      "execution_count": 16,
      "outputs": [
        {
          "output_type": "stream",
          "name": "stdout",
          "text": [
            "True\n"
          ]
        }
      ]
    },
    {
      "cell_type": "markdown",
      "metadata": {
        "id": "3HTmBv3voVnb"
      },
      "source": [
        "*Membership Operators*"
      ]
    },
    {
      "cell_type": "code",
      "metadata": {
        "colab": {
          "base_uri": "https://localhost:8080/"
        },
        "id": "7A-Bz_pRoayZ",
        "outputId": "cfd20c39-7ffc-4247-e03b-56b19b14f5ce"
      },
      "source": [
        "a=5\n",
        "b=10\n",
        "\n",
        "c=[1,2,3,4,5]\n",
        "\n",
        "print(a in c)\n",
        "print(b in c)\n",
        "print(a not in c)\n",
        "print(b not in c)"
      ],
      "execution_count": 17,
      "outputs": [
        {
          "output_type": "stream",
          "name": "stdout",
          "text": [
            "True\n",
            "False\n",
            "False\n",
            "True\n"
          ]
        }
      ]
    }
  ]
}