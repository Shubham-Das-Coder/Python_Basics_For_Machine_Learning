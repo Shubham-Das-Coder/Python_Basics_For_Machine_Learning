{
  "nbformat": 4,
  "nbformat_minor": 0,
  "metadata": {
    "colab": {
      "name": "If_Else_Statement.ipynb",
      "provenance": [],
      "collapsed_sections": [],
      "authorship_tag": "ABX9TyPFBXPgJ1bLGvZtp4m0lOYI",
      "include_colab_link": true
    },
    "kernelspec": {
      "name": "python3",
      "display_name": "Python 3"
    },
    "language_info": {
      "name": "python"
    }
  },
  "cells": [
    {
      "cell_type": "markdown",
      "metadata": {
        "id": "view-in-github",
        "colab_type": "text"
      },
      "source": [
        "<a href=\"https://colab.research.google.com/github/Shubham-Das-Coder/Python_Basics_For_Machine_Learning/blob/main/If_Else_Statement.ipynb\" target=\"_parent\"><img src=\"https://colab.research.google.com/assets/colab-badge.svg\" alt=\"Open In Colab\"/></a>"
      ]
    },
    {
      "cell_type": "markdown",
      "metadata": {
        "id": "U9oXn9PstuBC"
      },
      "source": [
        "*If Statement*"
      ]
    },
    {
      "cell_type": "code",
      "metadata": {
        "colab": {
          "base_uri": "https://localhost:8080/"
        },
        "id": "7pjCEOeQtoBd",
        "outputId": "669d57f1-0e16-4dbf-dd86-eeda3064b3eb"
      },
      "source": [
        "a=37\n",
        "b=23\n",
        "\n",
        "if(a>b):\n",
        "    print(\"a is greater\")\n",
        "if(a<b):\n",
        "    print(\"b is greater\")"
      ],
      "execution_count": 1,
      "outputs": [
        {
          "output_type": "stream",
          "name": "stdout",
          "text": [
            "a is greater\n"
          ]
        }
      ]
    },
    {
      "cell_type": "markdown",
      "metadata": {
        "id": "N24jVANPuf9T"
      },
      "source": [
        "*Simple If Else Statement*"
      ]
    },
    {
      "cell_type": "code",
      "metadata": {
        "colab": {
          "base_uri": "https://localhost:8080/"
        },
        "id": "KG2YUVDSuH08",
        "outputId": "ed11a3c7-09f4-46eb-c42c-d8a4c82af478"
      },
      "source": [
        "if(10<20):\n",
        "    print(\"Statement 1\")\n",
        "else:\n",
        "    print(\"Statement 2\")"
      ],
      "execution_count": 2,
      "outputs": [
        {
          "output_type": "stream",
          "name": "stdout",
          "text": [
            "Statement 1\n"
          ]
        }
      ]
    },
    {
      "cell_type": "code",
      "metadata": {
        "colab": {
          "base_uri": "https://localhost:8080/"
        },
        "id": "sLL8w-_OuvtP",
        "outputId": "e12601bd-4255-422e-9c24-9114d946c99a"
      },
      "source": [
        "if(10>20):\n",
        "    print(\"Statement 1\")\n",
        "else:\n",
        "    print(\"Statement 2\")"
      ],
      "execution_count": 3,
      "outputs": [
        {
          "output_type": "stream",
          "name": "stdout",
          "text": [
            "Statement 2\n"
          ]
        }
      ]
    },
    {
      "cell_type": "markdown",
      "metadata": {
        "id": "g0dTkGk9u3sd"
      },
      "source": [
        "*If Elif Else Statement*"
      ]
    },
    {
      "cell_type": "code",
      "metadata": {
        "colab": {
          "base_uri": "https://localhost:8080/"
        },
        "id": "fTBWtzrquzUP",
        "outputId": "ae9fa644-769a-40b5-8094-61d9c95f7bb5"
      },
      "source": [
        "num1 = float(input(\"Enter first number: \"))\n",
        "num2 = float(input(\"Enter second number: \"))\n",
        "num3 = float(input(\"Enter third number: \"))\n",
        "\n",
        "if (num1 >= num2) and (num1 >= num3):\n",
        "   print(num1)\n",
        "elif (num2 >= num1) and (num2 >= num3):\n",
        "   print(num2)\n",
        "else:\n",
        "   print(num3)"
      ],
      "execution_count": 4,
      "outputs": [
        {
          "output_type": "stream",
          "name": "stdout",
          "text": [
            "Enter first number: 45\n",
            "Enter second number: 21\n",
            "Enter third number: 34\n",
            "45.0\n"
          ]
        }
      ]
    },
    {
      "cell_type": "code",
      "metadata": {
        "colab": {
          "base_uri": "https://localhost:8080/"
        },
        "id": "inOQqh_Ivv00",
        "outputId": "fa5ba6f9-b2ee-4989-a48f-e6fbad294ecb"
      },
      "source": [
        "a=int(input(\"Enter A: \"))\n",
        "b=int(input(\"Enter B: \"))\n",
        "c=int(input(\"Enter C: \"))\n",
        "\n",
        "if a>b:\n",
        "    if a>c:\n",
        "        g=a\n",
        "    else:\n",
        "        g=c\n",
        "else:\n",
        "    if b>c:\n",
        "        g=b\n",
        "    else:\n",
        "        g=c\n",
        " \n",
        "print(\"Greater  = \",g)"
      ],
      "execution_count": 5,
      "outputs": [
        {
          "output_type": "stream",
          "name": "stdout",
          "text": [
            "Enter A: 87\n",
            "Enter B: 32\n",
            "Enter C: 66\n",
            "Greater  =  87\n"
          ]
        }
      ]
    }
  ]
}