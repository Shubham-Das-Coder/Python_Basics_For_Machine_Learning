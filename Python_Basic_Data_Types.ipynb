{
  "nbformat": 4,
  "nbformat_minor": 0,
  "metadata": {
    "colab": {
      "name": "Python_Basic_Data_Types.ipynb",
      "provenance": [],
      "collapsed_sections": [],
      "authorship_tag": "ABX9TyNk+O99sks+6OLlZ7VW8oTj",
      "include_colab_link": true
    },
    "kernelspec": {
      "name": "python3",
      "display_name": "Python 3"
    },
    "language_info": {
      "name": "python"
    }
  },
  "cells": [
    {
      "cell_type": "markdown",
      "metadata": {
        "id": "view-in-github",
        "colab_type": "text"
      },
      "source": [
        "<a href=\"https://colab.research.google.com/github/Shubham-Das-Coder/Python_Basics_For_Machine_Learning/blob/main/Python_Basic_Data_Types.ipynb\" target=\"_parent\"><img src=\"https://colab.research.google.com/assets/colab-badge.svg\" alt=\"Open In Colab\"/></a>"
      ]
    },
    {
      "cell_type": "markdown",
      "metadata": {
        "id": "C8W7Q8BRogpU"
      },
      "source": [
        "#*Integers*"
      ]
    },
    {
      "cell_type": "code",
      "metadata": {
        "colab": {
          "base_uri": "https://localhost:8080/"
        },
        "id": "6GXSFjGTmhJR",
        "outputId": "29631b21-50c4-48ce-c574-24aa38dffd5e"
      },
      "source": [
        "a=67\n",
        "print(a)\n",
        "type(a)"
      ],
      "execution_count": 1,
      "outputs": [
        {
          "output_type": "stream",
          "name": "stdout",
          "text": [
            "67\n"
          ]
        },
        {
          "output_type": "execute_result",
          "data": {
            "text/plain": [
              "int"
            ]
          },
          "metadata": {},
          "execution_count": 1
        }
      ]
    },
    {
      "cell_type": "markdown",
      "metadata": {
        "id": "6zFWI-BNomd7"
      },
      "source": [
        "#*Floating points*"
      ]
    },
    {
      "cell_type": "code",
      "metadata": {
        "colab": {
          "base_uri": "https://localhost:8080/"
        },
        "id": "2alMKNT0m0Po",
        "outputId": "67c48f77-3199-4971-9286-307f36c675a9"
      },
      "source": [
        "b=5.3\n",
        "print(b)\n",
        "type(b)"
      ],
      "execution_count": 2,
      "outputs": [
        {
          "output_type": "stream",
          "name": "stdout",
          "text": [
            "5.3\n"
          ]
        },
        {
          "output_type": "execute_result",
          "data": {
            "text/plain": [
              "float"
            ]
          },
          "metadata": {},
          "execution_count": 2
        }
      ]
    },
    {
      "cell_type": "markdown",
      "metadata": {
        "id": "x7d4O4gJoqux"
      },
      "source": [
        "#*Complex numbers*"
      ]
    },
    {
      "cell_type": "code",
      "metadata": {
        "colab": {
          "base_uri": "https://localhost:8080/"
        },
        "id": "Hhl0meaOnBai",
        "outputId": "fb8099b1-01e5-48fe-caff-e26af83221b3"
      },
      "source": [
        "c=2+3j\n",
        "print(c)\n",
        "type(c)"
      ],
      "execution_count": 3,
      "outputs": [
        {
          "output_type": "stream",
          "name": "stdout",
          "text": [
            "(2+3j)\n"
          ]
        },
        {
          "output_type": "execute_result",
          "data": {
            "text/plain": [
              "complex"
            ]
          },
          "metadata": {},
          "execution_count": 3
        }
      ]
    },
    {
      "cell_type": "markdown",
      "metadata": {
        "id": "_j6koW_iozOK"
      },
      "source": [
        "#*Boolean*"
      ]
    },
    {
      "cell_type": "code",
      "metadata": {
        "colab": {
          "base_uri": "https://localhost:8080/"
        },
        "id": "6_hJakD3nN3x",
        "outputId": "485eb0ad-3973-44c8-a422-3c366f4a0d6d"
      },
      "source": [
        "d=True\n",
        "print(d)\n",
        "type(d)\n",
        "e=False\n",
        "print(e)\n",
        "type(e)\n",
        "f=7<2\n",
        "print(f)\n",
        "type(f)"
      ],
      "execution_count": 4,
      "outputs": [
        {
          "output_type": "stream",
          "name": "stdout",
          "text": [
            "True\n",
            "False\n",
            "False\n"
          ]
        },
        {
          "output_type": "execute_result",
          "data": {
            "text/plain": [
              "bool"
            ]
          },
          "metadata": {},
          "execution_count": 4
        }
      ]
    },
    {
      "cell_type": "code",
      "metadata": {
        "colab": {
          "base_uri": "https://localhost:8080/"
        },
        "id": "BGbXEJUxnk45",
        "outputId": "f3a31fd6-7e84-4e6f-f40e-25a6a9ddd145"
      },
      "source": [
        "f=7<2\n",
        "print(f)\n",
        "type(f)"
      ],
      "execution_count": 5,
      "outputs": [
        {
          "output_type": "stream",
          "name": "stdout",
          "text": [
            "False\n"
          ]
        },
        {
          "output_type": "execute_result",
          "data": {
            "text/plain": [
              "bool"
            ]
          },
          "metadata": {},
          "execution_count": 5
        }
      ]
    },
    {
      "cell_type": "code",
      "metadata": {
        "colab": {
          "base_uri": "https://localhost:8080/"
        },
        "id": "8Pl5C8WIoQ5a",
        "outputId": "d9d3abdb-4ba5-4ae9-9a9a-dcfd45fc3edc"
      },
      "source": [
        "g=7>2\n",
        "print(g)\n",
        "type(g)"
      ],
      "execution_count": 6,
      "outputs": [
        {
          "output_type": "stream",
          "name": "stdout",
          "text": [
            "True\n"
          ]
        },
        {
          "output_type": "execute_result",
          "data": {
            "text/plain": [
              "bool"
            ]
          },
          "metadata": {},
          "execution_count": 6
        }
      ]
    },
    {
      "cell_type": "markdown",
      "metadata": {
        "id": "wVy6NFIbpWoK"
      },
      "source": [
        "#*Strings*"
      ]
    },
    {
      "cell_type": "code",
      "metadata": {
        "colab": {
          "base_uri": "https://localhost:8080/"
        },
        "id": "J8Zxt67epP2q",
        "outputId": "5aaf5e0b-0fc7-41ef-c272-a29a37c0fbfc"
      },
      "source": [
        "h=\"Hello World\"\n",
        "print(h)\n",
        "type(h)"
      ],
      "execution_count": 7,
      "outputs": [
        {
          "output_type": "stream",
          "name": "stdout",
          "text": [
            "Hello World\n"
          ]
        },
        {
          "output_type": "execute_result",
          "data": {
            "text/plain": [
              "str"
            ]
          },
          "metadata": {},
          "execution_count": 7
        }
      ]
    },
    {
      "cell_type": "code",
      "metadata": {
        "colab": {
          "base_uri": "https://localhost:8080/"
        },
        "id": "GM5KavcBpfra",
        "outputId": "6c0e535e-6398-48c5-d8b0-c059536e9859"
      },
      "source": [
        "i='Python'\n",
        "print(i)\n",
        "type(i)"
      ],
      "execution_count": 8,
      "outputs": [
        {
          "output_type": "stream",
          "name": "stdout",
          "text": [
            "Python\n"
          ]
        },
        {
          "output_type": "execute_result",
          "data": {
            "text/plain": [
              "str"
            ]
          },
          "metadata": {},
          "execution_count": 8
        }
      ]
    },
    {
      "cell_type": "code",
      "metadata": {
        "colab": {
          "base_uri": "https://localhost:8080/"
        },
        "id": "e1LPqslIppop",
        "outputId": "5f5bdc6d-f36f-4b60-f104-47f2e7312d68"
      },
      "source": [
        "print(\"Hello World \"*5)"
      ],
      "execution_count": 9,
      "outputs": [
        {
          "output_type": "stream",
          "name": "stdout",
          "text": [
            "Hello World Hello World Hello World Hello World Hello World \n"
          ]
        }
      ]
    },
    {
      "cell_type": "code",
      "metadata": {
        "colab": {
          "base_uri": "https://localhost:8080/"
        },
        "id": "uHwbMU2npyO5",
        "outputId": "c4e868a6-117b-4327-b3cf-13b50002c8c8"
      },
      "source": [
        "j=\"Welcome to machine learning. \"\n",
        "print(j*5)"
      ],
      "execution_count": 10,
      "outputs": [
        {
          "output_type": "stream",
          "name": "stdout",
          "text": [
            "Welcome to machine learning. Welcome to machine learning. Welcome to machine learning. Welcome to machine learning. Welcome to machine learning. \n"
          ]
        }
      ]
    },
    {
      "cell_type": "code",
      "metadata": {
        "colab": {
          "base_uri": "https://localhost:8080/"
        },
        "id": "Gop0VHagp995",
        "outputId": "695d2ce3-88be-4cdf-8f46-a212a22997b1"
      },
      "source": [
        "#Slicing\n",
        "k=\"Programming\"\n",
        "print(k[:])\n",
        "print(k[2:])\n",
        "print(k[:5])\n",
        "print(k[3:6])"
      ],
      "execution_count": 11,
      "outputs": [
        {
          "output_type": "stream",
          "name": "stdout",
          "text": [
            "Programming\n",
            "ogramming\n",
            "Progr\n",
            "gra\n"
          ]
        }
      ]
    },
    {
      "cell_type": "code",
      "metadata": {
        "colab": {
          "base_uri": "https://localhost:8080/"
        },
        "id": "mdlBb4TZqbT5",
        "outputId": "844f3645-74d5-4512-b26a-d7424de55c2d"
      },
      "source": [
        "#Step\n",
        "l=\"Determined\"\n",
        "print(l[0:10:2])\n",
        "print(l[2:9:2])"
      ],
      "execution_count": 12,
      "outputs": [
        {
          "output_type": "stream",
          "name": "stdout",
          "text": [
            "Dtrie\n",
            "trie\n"
          ]
        }
      ]
    },
    {
      "cell_type": "code",
      "metadata": {
        "colab": {
          "base_uri": "https://localhost:8080/"
        },
        "id": "uctVLwe4q2N5",
        "outputId": "a0fd743f-9346-42b4-941d-d49b031a1f7f"
      },
      "source": [
        "#Concatenation\n",
        "m=\"Google \"\n",
        "n=\"Colaboratory\"\n",
        "print(m+n)"
      ],
      "execution_count": 13,
      "outputs": [
        {
          "output_type": "stream",
          "name": "stdout",
          "text": [
            "Google Colaboratory\n"
          ]
        }
      ]
    },
    {
      "cell_type": "markdown",
      "metadata": {
        "id": "PIaHG5dBrWYj"
      },
      "source": [
        "#*Type Conversion*"
      ]
    },
    {
      "cell_type": "code",
      "metadata": {
        "colab": {
          "base_uri": "https://localhost:8080/"
        },
        "id": "aHTQ6ZwqrOhh",
        "outputId": "3d512780-ed8a-4513-f80f-19ae56466f0e"
      },
      "source": [
        "o=43\n",
        "p=float(o)\n",
        "print(p)\n",
        "type(p)"
      ],
      "execution_count": 14,
      "outputs": [
        {
          "output_type": "stream",
          "name": "stdout",
          "text": [
            "43.0\n"
          ]
        },
        {
          "output_type": "execute_result",
          "data": {
            "text/plain": [
              "float"
            ]
          },
          "metadata": {},
          "execution_count": 14
        }
      ]
    },
    {
      "cell_type": "code",
      "metadata": {
        "colab": {
          "base_uri": "https://localhost:8080/"
        },
        "id": "4TxPo23WrkyD",
        "outputId": "4b6c9354-beaf-4f36-c09e-3788dd75dcff"
      },
      "source": [
        "q=85.14\n",
        "r=int(q)\n",
        "print(r)\n",
        "type(r)"
      ],
      "execution_count": 15,
      "outputs": [
        {
          "output_type": "stream",
          "name": "stdout",
          "text": [
            "85\n"
          ]
        },
        {
          "output_type": "execute_result",
          "data": {
            "text/plain": [
              "int"
            ]
          },
          "metadata": {},
          "execution_count": 15
        }
      ]
    },
    {
      "cell_type": "code",
      "metadata": {
        "id": "_e7lIfNEr4Bx"
      },
      "source": [
        ""
      ],
      "execution_count": 15,
      "outputs": []
    }
  ]
}