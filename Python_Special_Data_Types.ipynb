{
  "nbformat": 4,
  "nbformat_minor": 0,
  "metadata": {
    "colab": {
      "name": "Python_Special_Data_Types.ipynb",
      "provenance": [],
      "collapsed_sections": [],
      "authorship_tag": "ABX9TyOOv1/IF/ScJep3Jw8jMO6C",
      "include_colab_link": true
    },
    "kernelspec": {
      "name": "python3",
      "display_name": "Python 3"
    },
    "language_info": {
      "name": "python"
    }
  },
  "cells": [
    {
      "cell_type": "markdown",
      "metadata": {
        "id": "view-in-github",
        "colab_type": "text"
      },
      "source": [
        "<a href=\"https://colab.research.google.com/github/Shubham-Das-Coder/Python_Basics_For_Machine_Learning/blob/main/Python_Special_Data_Types.ipynb\" target=\"_parent\"><img src=\"https://colab.research.google.com/assets/colab-badge.svg\" alt=\"Open In Colab\"/></a>"
      ]
    },
    {
      "cell_type": "markdown",
      "metadata": {
        "id": "An0cjStpLD25"
      },
      "source": [
        "#*Lists*"
      ]
    },
    {
      "cell_type": "code",
      "metadata": {
        "colab": {
          "base_uri": "https://localhost:8080/"
        },
        "id": "dPxtYfFYK5eX",
        "outputId": "df3c1015-70dc-4ceb-d8be-498bf478a675"
      },
      "source": [
        "my_list=[1,2,3,4,5]\n",
        "print(my_list)\n",
        "type(my_list)"
      ],
      "execution_count": 1,
      "outputs": [
        {
          "output_type": "stream",
          "name": "stdout",
          "text": [
            "[1, 2, 3, 4, 5]\n"
          ]
        },
        {
          "output_type": "execute_result",
          "data": {
            "text/plain": [
              "list"
            ]
          },
          "metadata": {},
          "execution_count": 1
        }
      ]
    },
    {
      "cell_type": "code",
      "metadata": {
        "colab": {
          "base_uri": "https://localhost:8080/"
        },
        "id": "NUMxlIhILNwU",
        "outputId": "31ec37d0-20e6-437a-cb67-eafb23a21835"
      },
      "source": [
        "my_list=[45,99.99,\"Shubham\",True]\n",
        "print(my_list)\n",
        "type(my_list)"
      ],
      "execution_count": 2,
      "outputs": [
        {
          "output_type": "stream",
          "name": "stdout",
          "text": [
            "[45, 99.99, 'Shubham', True]\n"
          ]
        },
        {
          "output_type": "execute_result",
          "data": {
            "text/plain": [
              "list"
            ]
          },
          "metadata": {},
          "execution_count": 2
        }
      ]
    },
    {
      "cell_type": "code",
      "metadata": {
        "colab": {
          "base_uri": "https://localhost:8080/"
        },
        "id": "dm7M3IfdLf6P",
        "outputId": "260f23c8-7029-4537-b362-b5d153309d13"
      },
      "source": [
        "my_list=[45,99.99,\"Shubham\",True]\n",
        "my_list.append(\"Python\")\n",
        "print(my_list)"
      ],
      "execution_count": 3,
      "outputs": [
        {
          "output_type": "stream",
          "name": "stdout",
          "text": [
            "[45, 99.99, 'Shubham', True, 'Python']\n"
          ]
        }
      ]
    },
    {
      "cell_type": "code",
      "metadata": {
        "colab": {
          "base_uri": "https://localhost:8080/"
        },
        "id": "cMyVlgFfLuZn",
        "outputId": "4536099f-02d9-4fc2-8342-255f12082ae1"
      },
      "source": [
        "print(my_list[1])\n",
        "print(my_list[4])\n",
        "print(my_list[2])\n",
        "print(my_list[3])"
      ],
      "execution_count": 4,
      "outputs": [
        {
          "output_type": "stream",
          "name": "stdout",
          "text": [
            "99.99\n",
            "Python\n",
            "Shubham\n",
            "True\n"
          ]
        }
      ]
    },
    {
      "cell_type": "code",
      "metadata": {
        "colab": {
          "base_uri": "https://localhost:8080/"
        },
        "id": "O1J2vZXGL6PY",
        "outputId": "a40454a4-b22d-472d-8aca-d010e2cb0910"
      },
      "source": [
        "list_1=[1,1,2,2,3,3,4,4,5,5,6,6,7,7,8,8,9,9]\n",
        "print(list_1)"
      ],
      "execution_count": 5,
      "outputs": [
        {
          "output_type": "stream",
          "name": "stdout",
          "text": [
            "[1, 1, 2, 2, 3, 3, 4, 4, 5, 5, 6, 6, 7, 7, 8, 8, 9, 9]\n"
          ]
        }
      ]
    },
    {
      "cell_type": "code",
      "metadata": {
        "colab": {
          "base_uri": "https://localhost:8080/"
        },
        "id": "DvZmGL0LMDiB",
        "outputId": "6d6356d4-0747-408c-f258-33c7a090be5c"
      },
      "source": [
        "print(len(list_1))"
      ],
      "execution_count": 6,
      "outputs": [
        {
          "output_type": "stream",
          "name": "stdout",
          "text": [
            "18\n"
          ]
        }
      ]
    },
    {
      "cell_type": "code",
      "metadata": {
        "colab": {
          "base_uri": "https://localhost:8080/"
        },
        "id": "q8cvV4umMM9J",
        "outputId": "2fdfda4c-d749-4c22-9c39-d5edd01682ce"
      },
      "source": [
        "list_2=[]\n",
        "print(list_2)"
      ],
      "execution_count": 7,
      "outputs": [
        {
          "output_type": "stream",
          "name": "stdout",
          "text": [
            "[]\n"
          ]
        }
      ]
    },
    {
      "cell_type": "code",
      "metadata": {
        "colab": {
          "base_uri": "https://localhost:8080/"
        },
        "id": "NTVhyfMERgme",
        "outputId": "c2169ebc-f663-4f59-c882-c294f0013f79"
      },
      "source": [
        "list_2.append(50)\n",
        "print(list_2)"
      ],
      "execution_count": 8,
      "outputs": [
        {
          "output_type": "stream",
          "name": "stdout",
          "text": [
            "[50]\n"
          ]
        }
      ]
    },
    {
      "cell_type": "code",
      "metadata": {
        "colab": {
          "base_uri": "https://localhost:8080/"
        },
        "id": "HhxXp6SARmNz",
        "outputId": "c34ee3d0-ec5f-4033-a7c5-03a2d26c75fb"
      },
      "source": [
        "list_2=[45, 99.99, 'Shubham', True, 'Python']\n",
        "print(list_2)\n",
        "del list_2[4]\n",
        "print(list_2)"
      ],
      "execution_count": 9,
      "outputs": [
        {
          "output_type": "stream",
          "name": "stdout",
          "text": [
            "[45, 99.99, 'Shubham', True, 'Python']\n",
            "[45, 99.99, 'Shubham', True]\n"
          ]
        }
      ]
    },
    {
      "cell_type": "code",
      "metadata": {
        "colab": {
          "base_uri": "https://localhost:8080/"
        },
        "id": "OADMfet3R9B5",
        "outputId": "692c040f-8711-4a88-9215-fe60c171f6cb"
      },
      "source": [
        "list_3=[1,3,5,7,9]\n",
        "list_4=[2,4,6,8]\n",
        "list_5=list_3 + list_4\n",
        "list_6=list_4 + list_3\n",
        "print(list_5)\n",
        "print(list_6)"
      ],
      "execution_count": 10,
      "outputs": [
        {
          "output_type": "stream",
          "name": "stdout",
          "text": [
            "[1, 3, 5, 7, 9, 2, 4, 6, 8]\n",
            "[2, 4, 6, 8, 1, 3, 5, 7, 9]\n"
          ]
        }
      ]
    },
    {
      "cell_type": "markdown",
      "metadata": {
        "id": "vH_m9nrPSY13"
      },
      "source": [
        "#*Tuples*"
      ]
    },
    {
      "cell_type": "code",
      "metadata": {
        "colab": {
          "base_uri": "https://localhost:8080/"
        },
        "id": "cNtJfwxaSWE8",
        "outputId": "ea46331d-7444-49f7-d2ca-eeadbe3c1eee"
      },
      "source": [
        "tuple_1=(1,2,3,4,5)\n",
        "print(tuple_1)\n",
        "type(tuple_1)"
      ],
      "execution_count": 11,
      "outputs": [
        {
          "output_type": "stream",
          "name": "stdout",
          "text": [
            "(1, 2, 3, 4, 5)\n"
          ]
        },
        {
          "output_type": "execute_result",
          "data": {
            "text/plain": [
              "tuple"
            ]
          },
          "metadata": {},
          "execution_count": 11
        }
      ]
    },
    {
      "cell_type": "code",
      "metadata": {
        "colab": {
          "base_uri": "https://localhost:8080/"
        },
        "id": "1IRqJ6WuSlst",
        "outputId": "b6857a1a-8f70-442c-a715-596f77134fbf"
      },
      "source": [
        "tuple_2=(99,\"Machine Learning\",False)\n",
        "print(tuple_2)"
      ],
      "execution_count": 12,
      "outputs": [
        {
          "output_type": "stream",
          "name": "stdout",
          "text": [
            "(99, 'Machine Learning', False)\n"
          ]
        }
      ]
    },
    {
      "cell_type": "code",
      "metadata": {
        "colab": {
          "base_uri": "https://localhost:8080/"
        },
        "id": "20CT7JgvSyPE",
        "outputId": "01c3b9ae-f705-4976-f100-c86702b7a80b"
      },
      "source": [
        "my_list=[1,2,3,4,5]\n",
        "print(my_list)\n",
        "\n",
        "my_tuple=tuple(my_list)\n",
        "print(my_tuple)"
      ],
      "execution_count": 13,
      "outputs": [
        {
          "output_type": "stream",
          "name": "stdout",
          "text": [
            "[1, 2, 3, 4, 5]\n",
            "(1, 2, 3, 4, 5)\n"
          ]
        }
      ]
    },
    {
      "cell_type": "code",
      "metadata": {
        "colab": {
          "base_uri": "https://localhost:8080/"
        },
        "id": "EUjd8KoGS_2X",
        "outputId": "c8ddd683-5f80-4c34-8f1c-86b4315ebc83"
      },
      "source": [
        "print(my_tuple[0])\n",
        "print(my_tuple[2])\n",
        "print(my_tuple[4])"
      ],
      "execution_count": 14,
      "outputs": [
        {
          "output_type": "stream",
          "name": "stdout",
          "text": [
            "1\n",
            "3\n",
            "5\n"
          ]
        }
      ]
    },
    {
      "cell_type": "code",
      "metadata": {
        "colab": {
          "base_uri": "https://localhost:8080/"
        },
        "id": "VEbiBCU3TO6G",
        "outputId": "45f3d0cf-f9ff-49aa-c7d2-dcd558f0d8f1"
      },
      "source": [
        "print(len(my_tuple))"
      ],
      "execution_count": 15,
      "outputs": [
        {
          "output_type": "stream",
          "name": "stdout",
          "text": [
            "5\n"
          ]
        }
      ]
    },
    {
      "cell_type": "markdown",
      "metadata": {
        "id": "_NUKlZQFTcBp"
      },
      "source": [
        "#*Set*"
      ]
    },
    {
      "cell_type": "code",
      "metadata": {
        "colab": {
          "base_uri": "https://localhost:8080/"
        },
        "id": "RZSKW71TTaNf",
        "outputId": "f50f9d61-ee82-4ff9-d0ef-8ea615704f23"
      },
      "source": [
        "my_set={1,2,3,4,5}\n",
        "print(my_set)\n",
        "type(my_set)"
      ],
      "execution_count": 16,
      "outputs": [
        {
          "output_type": "stream",
          "name": "stdout",
          "text": [
            "{1, 2, 3, 4, 5}\n"
          ]
        },
        {
          "output_type": "execute_result",
          "data": {
            "text/plain": [
              "set"
            ]
          },
          "metadata": {},
          "execution_count": 16
        }
      ]
    },
    {
      "cell_type": "code",
      "metadata": {
        "colab": {
          "base_uri": "https://localhost:8080/"
        },
        "id": "L9D-xk-5TkH-",
        "outputId": "5011c54b-c5e5-478b-b71e-fad2272da093"
      },
      "source": [
        "lst=[1,3,5,7,9]\n",
        "x=set(lst)\n",
        "print(x)"
      ],
      "execution_count": 17,
      "outputs": [
        {
          "output_type": "stream",
          "name": "stdout",
          "text": [
            "{1, 3, 5, 7, 9}\n"
          ]
        }
      ]
    },
    {
      "cell_type": "code",
      "metadata": {
        "colab": {
          "base_uri": "https://localhost:8080/"
        },
        "id": "tqh2OQ-oT03t",
        "outputId": "13fe4be2-f9d6-49c3-f70f-a868f939bc1b"
      },
      "source": [
        "set_3={1,2,3,4,5,6,7,8,9,1,2,3,4,5,6,7,8,9}\n",
        "print(set_3)"
      ],
      "execution_count": 18,
      "outputs": [
        {
          "output_type": "stream",
          "name": "stdout",
          "text": [
            "{1, 2, 3, 4, 5, 6, 7, 8, 9}\n"
          ]
        }
      ]
    },
    {
      "cell_type": "markdown",
      "metadata": {
        "id": "jm-Ja7XcUBlQ"
      },
      "source": [
        "#*Dictionary*"
      ]
    },
    {
      "cell_type": "code",
      "metadata": {
        "colab": {
          "base_uri": "https://localhost:8080/"
        },
        "id": "xmkNAcVBT_L2",
        "outputId": "6143d50e-7dea-49c0-c285-7cf78add7c78"
      },
      "source": [
        "my_dict={\"name\":\"Shubham\",\"age\":19,\"country\":\"India\"}\n",
        "print(my_dict)\n",
        "type(my_dict)"
      ],
      "execution_count": 19,
      "outputs": [
        {
          "output_type": "stream",
          "name": "stdout",
          "text": [
            "{'name': 'Shubham', 'age': 19, 'country': 'India'}\n"
          ]
        },
        {
          "output_type": "execute_result",
          "data": {
            "text/plain": [
              "dict"
            ]
          },
          "metadata": {},
          "execution_count": 19
        }
      ]
    },
    {
      "cell_type": "code",
      "metadata": {
        "colab": {
          "base_uri": "https://localhost:8080/"
        },
        "id": "EQAARCUbUXxm",
        "outputId": "70d437e1-437a-4bc8-ea1a-717194e0e4ad"
      },
      "source": [
        "print(my_dict[\"name\"])\n",
        "print(my_dict[\"age\"])\n",
        "print(my_dict[\"country\"])"
      ],
      "execution_count": 20,
      "outputs": [
        {
          "output_type": "stream",
          "name": "stdout",
          "text": [
            "Shubham\n",
            "19\n",
            "India\n"
          ]
        }
      ]
    },
    {
      "cell_type": "code",
      "metadata": {
        "colab": {
          "base_uri": "https://localhost:8080/"
        },
        "id": "EXCrw3ByUhce",
        "outputId": "a8848fc2-78e4-4b51-dc8c-3751dcb9ba47"
      },
      "source": [
        "dict_2={\"name\":\"Shubham\",\"age\":19,\"country\":\"India\",\"name\":\"Shubham\",\"age\":19,\"country\":\"India\"}\n",
        "print(dict_2)"
      ],
      "execution_count": 21,
      "outputs": [
        {
          "output_type": "stream",
          "name": "stdout",
          "text": [
            "{'name': 'Shubham', 'age': 19, 'country': 'India'}\n"
          ]
        }
      ]
    },
    {
      "cell_type": "code",
      "metadata": {
        "id": "xJ-PQBjNUzrA"
      },
      "source": [
        ""
      ],
      "execution_count": 21,
      "outputs": []
    }
  ]
}