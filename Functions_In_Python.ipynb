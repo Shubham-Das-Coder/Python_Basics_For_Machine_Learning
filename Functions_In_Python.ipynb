{
  "nbformat": 4,
  "nbformat_minor": 0,
  "metadata": {
    "colab": {
      "name": "Functions_In_Python.ipynb",
      "provenance": [],
      "collapsed_sections": [],
      "authorship_tag": "ABX9TyPEBZH9l0pEhcxLxGs+i9yd",
      "include_colab_link": true
    },
    "kernelspec": {
      "name": "python3",
      "display_name": "Python 3"
    },
    "language_info": {
      "name": "python"
    }
  },
  "cells": [
    {
      "cell_type": "markdown",
      "metadata": {
        "id": "view-in-github",
        "colab_type": "text"
      },
      "source": [
        "<a href=\"https://colab.research.google.com/github/Shubham-Das-Coder/Python_Basics_For_Machine_Learning/blob/main/Functions_In_Python.ipynb\" target=\"_parent\"><img src=\"https://colab.research.google.com/assets/colab-badge.svg\" alt=\"Open In Colab\"/></a>"
      ]
    },
    {
      "cell_type": "markdown",
      "metadata": {
        "id": "s4hW_pmEO8bG"
      },
      "source": [
        "*Factorial Of A Number*"
      ]
    },
    {
      "cell_type": "code",
      "metadata": {
        "colab": {
          "base_uri": "https://localhost:8080/"
        },
        "id": "JmzA6E7czuoN",
        "outputId": "b47b5b39-953b-4de7-d557-7161b813a722"
      },
      "source": [
        "num=int(input(\"Enter a number : \"))\n",
        "\n",
        "factorial=1\n",
        "\n",
        "if(num==0):\n",
        "    print(\"The factorial of 0 is 1\")\n",
        "else:\n",
        "    for i in range(1,num+1):\n",
        "        factorial*=i\n",
        "    print(\"The factorial of \",num,\" is\",factorial)"
      ],
      "execution_count": 1,
      "outputs": [
        {
          "output_type": "stream",
          "name": "stdout",
          "text": [
            "Enter a number : 5\n",
            "The factorial of  5  is 120\n"
          ]
        }
      ]
    },
    {
      "cell_type": "markdown",
      "metadata": {
        "id": "9tscNuWpP0jM"
      },
      "source": [
        "*Factorial Function*"
      ]
    },
    {
      "cell_type": "code",
      "metadata": {
        "id": "NKgnRdz5PpaY"
      },
      "source": [
        "def factorial_value(num):\n",
        "    \n",
        "    factorial=1\n",
        "\n",
        "    if num==0:\n",
        "        return factorial\n",
        "    else:\n",
        "        for i in range(1,num+1):\n",
        "            factorial*=i\n",
        "        return factorial"
      ],
      "execution_count": 2,
      "outputs": []
    },
    {
      "cell_type": "code",
      "metadata": {
        "colab": {
          "base_uri": "https://localhost:8080/"
        },
        "id": "z0ek5XH6QWpi",
        "outputId": "e8bd48b8-48d1-4bec-aef6-26e7f627e8a9"
      },
      "source": [
        "factorial_value(5)"
      ],
      "execution_count": 3,
      "outputs": [
        {
          "output_type": "execute_result",
          "data": {
            "text/plain": [
              "120"
            ]
          },
          "metadata": {},
          "execution_count": 3
        }
      ]
    },
    {
      "cell_type": "code",
      "metadata": {
        "colab": {
          "base_uri": "https://localhost:8080/"
        },
        "id": "CmOUNeVSQdCb",
        "outputId": "20641510-ff7e-4571-f2f5-cea75c35d7ac"
      },
      "source": [
        "factorial_value(6)"
      ],
      "execution_count": 4,
      "outputs": [
        {
          "output_type": "execute_result",
          "data": {
            "text/plain": [
              "720"
            ]
          },
          "metadata": {},
          "execution_count": 4
        }
      ]
    }
  ]
}